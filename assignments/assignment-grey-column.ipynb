{
 "cells": [
  {
   "cell_type": "markdown",
   "metadata": {},
   "source": [
    "# Assignment: Radiative Forcing in an N-layer grey gas model\n",
    "\n",
    "[Brian E. J. Rose](http://www.atmos.albany.edu/facstaff/brose/index.html), University at Albany\n",
    "\n",
    "This document is part of a collection of material for the graduate course [ATM 623: Climate Modeling](https://brian-rose.github.io/atm623-spring2025/). At some point this content may be merged into [The Climate Laboratory book](https://brian-rose.github.io/ClimateLaboratoryBook/home.html)."
   ]
  },
  {
   "cell_type": "markdown",
   "metadata": {},
   "source": [
    "## Instructions\n",
    "\n",
    "As always, make sure of all the following\n",
    "- You answer all the questions, including discussion\n",
    "- Your notebook is well organized and clear\n",
    "- Your code runs cleanly from start to finish\n",
    "- You save your notebook as `[your last name].ipynb`\n",
    "\n",
    "Submit your notebook by email before class on **Wednesday February 26 2025**."
   ]
  },
  {
   "cell_type": "markdown",
   "metadata": {},
   "source": [
    "In this assignment you will extend the 2-layer grey radiation model we analyzed in class to a much larger number of layers, which would be very tedious to try to solve without a computer.\n",
    "\n",
    "For this assignment, **do not try to use symbolic math** with `sympy` to solve the problem analytically! The dimensions of the model will be too big.\n",
    "\n",
    "Instead, solve the problems numerically following the steps below."
   ]
  },
  {
   "cell_type": "markdown",
   "metadata": {},
   "source": [
    "## The $N$-layer grey gas atmosphere\n",
    "\n",
    "- Divide the atmosphere up into $N$ **equal mass** layers.\n",
    "- Assume the following:\n",
    "    - The surface emits as a blackbody, $\\sigma T_s^4$\n",
    "    - Each layer emits $\\epsilon \\sigma T^4$\n",
    "    - Each layer absorbs a fraction $\\epsilon$ of the incident longwave radiation\n",
    "    - In other words, the atmosphere behaves as a grey gas.\n",
    "    - $\\epsilon$ is the same in every layer (absorbers are well-mixed)."
   ]
  },
  {
   "cell_type": "markdown",
   "metadata": {},
   "source": [
    "## Your assigment, part 1: write your own model\n",
    "\n",
    "1. **Write Python code to calculate the OLR** given $\\epsilon$, $T_s$, and the temperature in each atmospheric layer. Your code should:\n",
    "    - be general enough to work for arbitrary $N$\n",
    "    - calculate the contributions to OLR from the surface and each $N$ atmospheric layer\n",
    "    \n",
    "2. Check your code: set $T = T_s$ in every layer. **Verify that your code produces $OLR = \\sigma T_s^4$**.\n",
    "3. Use **observed global, annual mean temperatures** to tune your model:\n",
    "    - Use the NCEP reanalysis long-term-mean air temperature data, following the previous notes. \n",
    "    - Use a sufficient number of layers in your model to get good resolution of the vertical structure. Try e.g. $N=30$.\n",
    "    - Use the data to set the temperatures in your model. You may need to do some interpolation between pressure levels.\n",
    "4. **Determine the value of your parameter $\\epsilon$** for which your code produces $OLR = 239$ W m$^{-2}$ given the observed temperatures.\n",
    "5. Using your tuned value of $\\epsilon$ and the observed temperatures, **calculate and plot the contributions from each layer (and the surface) to the OLR.**\n",
    "6. Now use your code to calculate the **radiative forcing** associated with a **1% increase in $\\epsilon$**.\n",
    "7. Plot the **changes** in the contributions to OLR from each layer (and the surface).\n",
    "8. Discuss any interesting features of your answers.\n"
   ]
  },
  {
   "cell_type": "code",
   "execution_count": null,
   "metadata": {},
   "outputs": [],
   "source": []
  }
 ],
 "metadata": {
  "anaconda-cloud": {},
  "kernelspec": {
   "display_name": "Python 3 (ipykernel)",
   "language": "python",
   "name": "python3"
  },
  "language_info": {
   "codemirror_mode": {
    "name": "ipython",
    "version": 3
   },
   "file_extension": ".py",
   "mimetype": "text/x-python",
   "name": "python",
   "nbconvert_exporter": "python",
   "pygments_lexer": "ipython3",
   "version": "3.10.13"
  }
 },
 "nbformat": 4,
 "nbformat_minor": 4
}
