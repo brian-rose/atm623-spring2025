{
 "cells": [
  {
   "cell_type": "markdown",
   "metadata": {},
   "source": [
    "# Assignment: Radiative Forcing in an N-layer grey gas model\n",
    "\n",
    "[Brian E. J. Rose](http://www.atmos.albany.edu/facstaff/brose/index.html), University at Albany\n",
    "\n",
    "This document is part of a collection of material for the graduate course [ATM 623: Climate Modeling](https://brian-rose.github.io/atm623-spring2025/). At some point this content may be merged into [The Climate Laboratory book](https://brian-rose.github.io/ClimateLaboratoryBook/home.html)."
   ]
  },
  {
   "cell_type": "markdown",
   "metadata": {},
   "source": [
    "## Instructions\n",
    "\n",
    "As always, make sure of all the following\n",
    "- You answer all the questions, including discussion\n",
    "- Your notebook is well organized and clear\n",
    "- Your code runs cleanly from start to finish\n",
    "- You save your notebook as `[your last name].ipynb`\n",
    "\n",
    "Submit your notebook by email before class on **Wednesday February 26 2025**."
   ]
  },
  {
   "cell_type": "markdown",
   "metadata": {},
   "source": [
    "In this assignment you will extend the 2-layer grey radiation model we analyzed in class to a much larger number of layers, which would be very tedious to try to solve without a computer.\n",
    "\n",
    "For this assignment, **do not try to use symbolic math** with `sympy` to solve the problem analytically! The dimensions of the model will be too big.\n",
    "\n",
    "Instead, solve the problems numerically following the steps below."
   ]
  },
  {
   "cell_type": "markdown",
   "metadata": {},
   "source": [
    "## The $N$-layer grey gas atmosphere\n",
    "\n",
    "- Divide the atmosphere up into $N$ **equal mass** layers.\n",
    "- Assume the following:\n",
    "    - The surface emits as a blackbody, $\\sigma T_s^4$\n",
    "    - Each layer emits $\\epsilon \\sigma T^4$\n",
    "    - Each layer absorbs a fraction $\\epsilon$ of the incident longwave radiation\n",
    "    - In other words, the atmosphere behaves as a grey gas.\n",
    "    - $\\epsilon$ is the same in every layer (absorbers are well-mixed)."
   ]
  },
  {
   "cell_type": "markdown",
   "metadata": {},
   "source": [
    "## Part 1\n",
    "\n",
    "**Write a Python function to calculate the OLR** given $\\epsilon$, $T_s$, and the temperature in each atmospheric layer. Your function should:\n",
    "    - be general enough to work for arbitrary $N$\n",
    "    - calculate the contributions to OLR from the surface and each $N$ atmospheric layer"
   ]
  },
  {
   "cell_type": "code",
   "execution_count": null,
   "metadata": {},
   "outputs": [],
   "source": []
  },
  {
   "cell_type": "markdown",
   "metadata": {},
   "source": [
    "## Part 2\n",
    "\n",
    "Check your code: set $T = T_s$ in every layer. **Verify that your code produces $OLR = \\sigma T_s^4$**."
   ]
  },
  {
   "cell_type": "code",
   "execution_count": null,
   "metadata": {},
   "outputs": [],
   "source": []
  },
  {
   "cell_type": "markdown",
   "metadata": {},
   "source": [
    "## Part 3\n",
    "\n",
    "Use **observed global, annual mean temperatures** to tune your model:\n",
    "\n",
    "- Use the NCEP reanalysis long-term-mean air temperature data, following the previous notes. \n",
    "- Use a sufficient number of layers in your model to get good resolution of the vertical structure. Try e.g. $N=30$.\n",
    "- Use the data to set the temperatures in your model. You may need to do some interpolation between pressure levels.\n"
   ]
  },
  {
   "cell_type": "code",
   "execution_count": null,
   "metadata": {},
   "outputs": [],
   "source": []
  },
  {
   "cell_type": "markdown",
   "metadata": {},
   "source": [
    "## Part 4\n",
    "\n",
    "**Determine the value of your parameter $\\epsilon$** for which your code produces $OLR = 239$ W m$^{-2}$ given the observed temperatures."
   ]
  },
  {
   "cell_type": "code",
   "execution_count": null,
   "metadata": {},
   "outputs": [],
   "source": []
  },
  {
   "cell_type": "markdown",
   "metadata": {},
   "source": [
    "## Part 5\n",
    "\n",
    "Compare the tuned value of $\\epsilon$ you found in Part 4 to the value we choose for the two-layer atmosphere version of this model in the notes. Does the tuned value of $\\epsilon$ depends on the vertical resolution of your model, i.e. the value of $N$? \n",
    "\n",
    "**Offer a simple physical explanation for this dependence.** \n",
    "\n",
    "If you're struggling to find an explanation, you may find it helpful to read through [these notes on Modeling non-scattering radiative transfer](https://brian-rose.github.io/ClimateLaboratoryBook/courseware/radiative-transfer.html) (or consult texts on atmospheric radiation)."
   ]
  },
  {
   "cell_type": "markdown",
   "metadata": {},
   "source": [
    "## Part 6\n",
    "\n",
    "Using your tuned value of $\\epsilon$ and the observed temperatures, **calculate and plot the contributions from each layer (and the surface) to the OLR.**\n"
   ]
  },
  {
   "cell_type": "code",
   "execution_count": null,
   "metadata": {},
   "outputs": [],
   "source": []
  },
  {
   "cell_type": "markdown",
   "metadata": {},
   "source": [
    "## Part 7\n",
    "\n",
    "Now use your code to calculate the **radiative forcing** associated with a **1% increase in $\\epsilon$**. \n",
    "\n",
    "Include in your answer a plot of the **changes** in the contributions to OLR from each layer (and the surface).\n"
   ]
  },
  {
   "cell_type": "code",
   "execution_count": null,
   "metadata": {},
   "outputs": [],
   "source": []
  },
  {
   "cell_type": "markdown",
   "metadata": {},
   "source": [
    "## Part 8\n",
    "\n",
    "Discuss any interesting features of your answers. In particular, please comment on how the increase in absorbers changes the weighting of the contributions to the OLR.\n"
   ]
  },
  {
   "cell_type": "markdown",
   "metadata": {},
   "source": []
  },
  {
   "cell_type": "markdown",
   "metadata": {},
   "source": [
    "## Part 9\n",
    "\n",
    "Repeat the experiment (1% increase in $\\epsilon$) for an **isothermal** column. What radiative forcing do you get in this case?\n",
    "\n"
   ]
  },
  {
   "cell_type": "code",
   "execution_count": null,
   "metadata": {},
   "outputs": [],
   "source": []
  },
  {
   "cell_type": "markdown",
   "metadata": {},
   "source": [
    "## Part 10\n",
    "\n",
    "Offer a critique of this grey gas model. Thinking back to the [real atmospheric absorption spectra](https://brian-rose.github.io/ClimateLaboratoryBook/courseware/radiation.html#atmospheric-absorption-spectra), or anything else that you think might be relevant, what do you think are some important features or processes missing from the grey gas model that might affect radiative forcing?\n",
    "\n",
    "Suggest at least one modification that we could make to this model to represent this additional process.\n",
    "\n",
    "Here I am just asking for thoughtful discussion and speculation. You do not need to build a new model!"
   ]
  },
  {
   "cell_type": "markdown",
   "metadata": {},
   "source": []
  }
 ],
 "metadata": {
  "anaconda-cloud": {},
  "kernelspec": {
   "display_name": "Python 3.9.6 64-bit",
   "language": "python",
   "name": "python3"
  },
  "language_info": {
   "codemirror_mode": {
    "name": "ipython",
    "version": 3
   },
   "file_extension": ".py",
   "mimetype": "text/x-python",
   "name": "python",
   "nbconvert_exporter": "python",
   "pygments_lexer": "ipython3",
   "version": "3.9.6"
  },
  "vscode": {
   "interpreter": {
    "hash": "31f2aee4e71d21fbe5cf8b01ff0e069b9275f58929596ceb00d14d90e3e16cd6"
   }
  }
 },
 "nbformat": 4,
 "nbformat_minor": 4
}
