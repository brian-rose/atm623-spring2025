{
 "cells": [
  {
   "cell_type": "markdown",
   "metadata": {},
   "source": [
    "# Assignment: Energy budget and sensitivity in the CESM\n",
    "\n",
    "[Brian E. J. Rose](http://www.atmos.albany.edu/facstaff/brose/index.html), University at Albany\n",
    "\n",
    "This document is part of a collection of material for the graduate course [ATM 623: Climate Modeling](https://brian-rose.github.io/atm623-spring2025/). At some point this content may be merged into [The Climate Laboratory book](https://brian-rose.github.io/ClimateLaboratoryBook/home.html)."
   ]
  },
  {
   "cell_type": "markdown",
   "metadata": {},
   "source": [
    "## Instructions\n",
    "\n",
    "- In a local copy of this notebook (on the JupyterHub or your own device) **add your answers in additional cells**.\n",
    "- **Complete the required problems** below. \n",
    "- Remember to set your cell types to `Markdown` for text, and `Code` for Python code!\n",
    "- Feel free to include comments in your code to explain your method as necessary.\n",
    "- Remember to actually answer the questions. **Written answers are required** (not just code and figures!)\n",
    "- Submit your solutions in **a single Jupyter notebook** that contains your text, your code, and your figures.\n",
    "- *Make sure that your notebook* ***runs cleanly without errors:***\n",
    "    - Save your notebook\n",
    "    - From the `Kernel` menu, select `Restart & Run All`\n",
    "    - Did the notebook run from start to finish without error and produce the expected output?\n",
    "    - If yes, save again and submit your notebook file\n",
    "    - If no, fix the errors and try again.\n",
    "- Save your notebook as `[your last name].ipynb`, e.g. my notebook should be called `Rose.ipynb`.  *This makes it easier for me when I collect all your answers*\n",
    "- Submit your notebook by email no later than **Monday February 17 2025**."
   ]
  },
  {
   "cell_type": "markdown",
   "metadata": {},
   "source": [
    "## Problem 1: The global energy budget in the CESM control simulation\n",
    "\n",
    "Using the CESM pre-industrial control simulation, compute the **global, time average** of each of the following quantities, and compare them to the observed values from the [Trenberth and Fasullo (2012) figure in the Climate Laboratory book](https://brian-rose.github.io/ClimateLaboratoryBook/courseware/zero-dim-ebm.html#recap-of-the-global-energy-budget):\n",
    "\n",
    "- Solar Radiation budget:\n",
    "    - Incoming Solar Radiation, or Insolation\n",
    "    - Reflected Solar Radiation at the top of atmosphere\n",
    "    - Solar Radiation Reflected by Surface\n",
    "    - Solar Radiation Absorbed by Surface\n",
    "    - Solar Radiation Refelected by Clouds and Atmosphere *(you can calculate this as the difference between the reflected radiation at the top of atmosphere and reflected radiation at the surface)*\n",
    "    - Total Absorbed Solar Radiation (ASR) at the top of atmosphere\n",
    "    - Solar Radiation Absorbed by Atmosphere *(you can calculate this as the residual of your budget, i.e. what's left over after accounting for all other absorption and reflection)*\n",
    "- Longwave Radiation budget:\n",
    "    - Outgoing Longwave Radiation\n",
    "    - Upward emission from the surface\n",
    "    - Downwelling radiation at the surface\n",
    "- Other surface fluxes:\n",
    "    - \"Thermals\", or *sensible heat flux*. *You will find this in the field called `SHFLX` in your dataset.*\n",
    "    - \"Evapotranspiration\", or *latent heat flux*. *You will find this in the field called `LHFLX` in your dataset.*\n",
    "    \n",
    "*Note we will look more carefully at atmospheric absorption and emission processes later. You do not need to try to calculate terms such as \"Emitted by Atmosphere\" or \"Atmospheric Window\"*\n",
    "\n",
    "**Based on your results above, answer the following questions:**\n",
    "\n",
    "- Is the CESM control simulation at (or near) **energy balance**? \n",
    "- Do you think this simulation is near equilibrium?\n",
    "- Summarize in your own words what you think are the most important similarities and differences of the global energy budgets in the CESM simulation and the observations."
   ]
  },
  {
   "cell_type": "code",
   "execution_count": null,
   "metadata": {},
   "outputs": [],
   "source": []
  },
  {
   "cell_type": "markdown",
   "metadata": {},
   "source": [
    "## Problem 2: Transient energy budgets in the CESM"
   ]
  },
  {
   "cell_type": "markdown",
   "metadata": {},
   "source": [
    "### Part A\n",
    "\n",
    "Following the examples in the [lecture notes](https://brian-rose.github.io/ClimateLaboratoryBook/courseware/transient-cesm.html), open the four CESM simulations (fully coupled and slab ocean versions with and without CO2 forcing).\n",
    "\n",
    "Calculate timeseries of **global mean ASR and OLR** and store each of these as a new variable. *Recall that ASR is called `FSNT` in the CESM output, and OLR is called `FLNT`.*\n",
    "\n",
    "Plot a timeseries of **(ASR - OLR), the net downward energy flux at the top of the model**, along with a **12 month rolling mean**, analogous to the plot of global mean surface air temperature in the lecture notes.  \n",
    "\n",
    "*Note that the rolling mean is important here because, just like with surface air temperature, there is a large seasonal cycle which makes it harder to see evidence of the climate change signal we wish to focus on.*"
   ]
  },
  {
   "cell_type": "code",
   "execution_count": null,
   "metadata": {},
   "outputs": [],
   "source": []
  },
  {
   "cell_type": "markdown",
   "metadata": {},
   "source": [
    "### Part B\n",
    "\n",
    "Calculate and show the **time-average ASR** and **time-average OLR** over the final 10 or 20 years of each simulation. Following the lecture notes, use the 20-year slice for the fully coupled simulations, and the 10-year slice for the slab ocean simulations."
   ]
  },
  {
   "cell_type": "code",
   "execution_count": null,
   "metadata": {},
   "outputs": [],
   "source": []
  },
  {
   "cell_type": "markdown",
   "metadata": {},
   "source": [
    "### Part C\n",
    "\n",
    "Based on your plots and numerical results from Parts 1 and 2, answer these questions:\n",
    "\n",
    "1. Are the two control simulations (fully coupled and slab ocean) near energy balance?\n",
    "2. In the fully coupled CO2 ramp simulation, does the energy imbalance (ASR-OLR) increase or decrease with time? What is the imbalance at the end of the 80 year simulation?\n",
    "3. Answer the same questions for the slab ocean abrupt 2xCO2 simulation.\n",
    "4. Explain in words why the timeseries of ASR-OLR look very different in the fully coupled simulation (1%/year CO2 ramp) versus the slab ocean simulation (abrupt 2xCO2). *Think about both the different radiative forcings and the different ocean heat capacities.*"
   ]
  },
  {
   "cell_type": "code",
   "execution_count": null,
   "metadata": {},
   "outputs": [],
   "source": []
  },
  {
   "cell_type": "markdown",
   "metadata": {},
   "source": [
    "### Part D\n",
    "\n",
    "Does the global average ASR **increase** or **decrease** because of CO2-driven warming in the CESM? \n",
    "\n",
    "Would you describe this as a **positive** or **negative** feedback?"
   ]
  },
  {
   "cell_type": "code",
   "execution_count": null,
   "metadata": {},
   "outputs": [],
   "source": []
  },
  {
   "cell_type": "markdown",
   "metadata": {},
   "source": [
    "### Part E\n",
    "\n",
    "In the previous question you looked at the global average change in ASR. Now I want you to look at how different parts of the world contribute to this change.\n",
    "\n",
    "**Make a map** of the **change in ASR** due to the CO2 forcing. Use the average over the last 20 years of the coupled CO2 ramp simulation, comparing against the average over the last 20 years of the control simulation."
   ]
  },
  {
   "cell_type": "code",
   "execution_count": null,
   "metadata": {},
   "outputs": [],
   "source": []
  },
  {
   "cell_type": "markdown",
   "metadata": {},
   "source": [
    "### Part F\n",
    "\n",
    "Repeat part 5, but this time instead of the change in ASR, look at the just change in the **clear-sky** component of ASR. You can find this in the output field called `FSNTC`.\n",
    "\n",
    "*The `FSNTC` field shows shortwave absorption in the absence of clouds, so the **change** in `FSNTC` shows how absorption and reflection of shortwave are affected by processes other than clouds.*"
   ]
  },
  {
   "cell_type": "code",
   "execution_count": null,
   "metadata": {},
   "outputs": [],
   "source": []
  },
  {
   "cell_type": "markdown",
   "metadata": {},
   "source": [
    "### Part G\n",
    "\n",
    "Discussion:\n",
    "\n",
    "- Do your two maps (change in ASR, change in clear-sky ASR) look the same? \n",
    "- Offer some ideas about why the clear-sky map looks the way it does.\n",
    "- Comment on anything interesting, unusual or surprising you found in the maps."
   ]
  },
  {
   "cell_type": "code",
   "execution_count": null,
   "metadata": {},
   "outputs": [],
   "source": []
  },
  {
   "cell_type": "markdown",
   "metadata": {},
   "source": [
    "## Problem 3: Land-ocean warming contrast\n",
    "\n",
    "In this problem you will think about the spatial pattern of surface warming in the CESM simulations and its relationship to land and ocean distribution."
   ]
  },
  {
   "cell_type": "markdown",
   "metadata": {},
   "source": [
    "### Part A\n",
    "\n",
    "Make maps that show all regions of Earth's surface that experience surface air temperature warming **greater than the global average value**. Make similar maps for both the slab ocean and fully coupled versions of the model. Show that these regions are almost almost entirely over land in the transient fully coupled simulation, but less so in the slab ocean simulation."
   ]
  },
  {
   "cell_type": "code",
   "execution_count": null,
   "metadata": {},
   "outputs": [],
   "source": []
  },
  {
   "cell_type": "markdown",
   "metadata": {},
   "source": [
    "### Part B\n",
    "\n",
    "Make line plots of the zonal average surface air temperature change over land only and over ocean only."
   ]
  },
  {
   "cell_type": "code",
   "execution_count": null,
   "metadata": {},
   "outputs": [],
   "source": []
  },
  {
   "cell_type": "markdown",
   "metadata": {},
   "source": [
    "### Part C\n",
    "\n",
    "Briefly discuss implications for this finding in the context of global warming mitigation targets (e.g. the Paris Agreement). *No more than a paragraph please.*"
   ]
  },
  {
   "cell_type": "markdown",
   "metadata": {},
   "source": []
  },
  {
   "cell_type": "markdown",
   "metadata": {},
   "source": [
    "## Problem 4: Hydrological cycle changes\n",
    "\n",
    "In this problem, you will look at changes in precipitation and evaporation under global warming in the CESM simulations.\n",
    "\n",
    "For each quantity, you will calculate and plot **fractional changes normalized per unit global mean warming**, e.g. for precipitation:\n",
    "\n",
    "$$ \\frac{1}{\\Delta \\overline{T}} \\frac{(P_{experiment} - P_{control}) }{P_{control}} \\times 100\\%$$\n",
    "\n",
    "where $P$ represents total precipitation at each gridpoint, and $\\Delta \\overline{T}$ is the global mean surface warming.\n",
    "\n",
    "The reason why we often plot changes in hydrological quantities in this way is that many features are strongly governed by the Clausius-Clapeyron relation and do remain close to 6% / K. Normalizing by global warming can be an effective way to compare hydrological changes between models and scenarios that have different climate sensitivities.\n",
    "\n",
    "\n",
    "Following similar procedures as in Problem 2 for applying time averages, make well-labeled maps of the normalized, fractional change in each of these quantities:\n",
    "\n",
    "- Total precipitation $P$ _(note that this is the sum of two terms: `PRECC + PRECL`, convective and large-scale precipitation)_.\n",
    "- Evaporation $E$\n",
    "- The net difference $P - E$\n",
    "\n",
    "Make this set of maps for both the slab ocean and fully coupled simulations.\n",
    "\n",
    "Comment on any interesting or surprising results in your maps."
   ]
  },
  {
   "cell_type": "code",
   "execution_count": null,
   "metadata": {},
   "outputs": [],
   "source": []
  }
 ],
 "metadata": {
  "anaconda-cloud": {},
  "kernelspec": {
   "display_name": "Python 3 (ipykernel)",
   "language": "python",
   "name": "python3"
  },
  "language_info": {
   "codemirror_mode": {
    "name": "ipython",
    "version": 3
   },
   "file_extension": ".py",
   "mimetype": "text/x-python",
   "name": "python",
   "nbconvert_exporter": "python",
   "pygments_lexer": "ipython3",
   "version": "3.10.13"
  }
 },
 "nbformat": 4,
 "nbformat_minor": 4
}
