{
 "cells": [
  {
   "cell_type": "markdown",
   "metadata": {},
   "source": [
    "# Assignment: Orbital variations and insolation\n",
    "\n",
    "[Brian E. J. Rose](http://www.atmos.albany.edu/facstaff/brose/index.html), University at Albany\n",
    "\n",
    "This document is part of a collection of material for the graduate course [ATM 623: Climate Modeling](https://brian-rose.github.io/atm623-spring2025/). At some point this content may be merged into [The Climate Laboratory book](https://brian-rose.github.io/ClimateLaboratoryBook/home.html)."
   ]
  },
  {
   "cell_type": "markdown",
   "metadata": {},
   "source": [
    "## Instructions\n",
    "\n",
    "\n",
    "The purpose of this assignment is two-fold:\n",
    "1. Get you familiar with doing orbital and insolation calculations with climlab\n",
    "2. Introduce you to some modern twists on the Astronomical Theory of the ice ages.\n",
    "\n",
    "As always, make sure of all the following\n",
    "- You answer all the questions, including discussion\n",
    "- Your notebook is well organized and clear\n",
    "- Your code runs cleanly from start to finish\n",
    "- You save your notebook as `[your last name].ipynb`\n",
    "\n",
    "Submit your notebook by email before class on **Wednesday April 9 2025**."
   ]
  },
  {
   "cell_type": "markdown",
   "metadata": {},
   "source": [
    "## Early Pleistocene Glacial Cycles and the Integrated Summer Insolation Forcing\n",
    "\n",
    "\n",
    "Although the causes of the ice ages have been discussed for over 150 years, there are still many unsolved problems.\n",
    "\n",
    "Go back and look at the timeseries of global ice volume we showed in Section 1 of the [notes on Orbital variations](https://brian-rose.github.io/ClimateLaboratoryBook/courseware/orbital.html#pacing-of-ice-ages-evidence-from-ocean-sediments)\n",
    "\n",
    "The most recent glaciations (the \"Late Pleistocene\") have been large in amplitude and occur on a roughly 100 kyr timescale. The earlier glaciations were smaller in magnitude and occurred on shorter 40 kyr timescales -- apparently in sync with obliquity variations.\n",
    "\n",
    "One very big outstanding question is this:\n",
    "\n",
    "**Why did the dominant frequency for the ice ages change from 40 kyr to 100 kyr roughly 800 kyr ago?**\n",
    "\n",
    "We are not going to answer that here. There is, however, a very nice clear explanation for the obliquity-pacing of the Early Pleistocene.\n",
    "\n",
    "This has been presented in a nice [2006 paper by Peter Huybers](https://doi.org/10.1126/science.1125249)."
   ]
  },
  {
   "cell_type": "markdown",
   "metadata": {},
   "source": [
    "First, **read the paper**."
   ]
  },
  {
   "cell_type": "markdown",
   "metadata": {},
   "source": [
    "Figure 2 of [Huybers, 2006](https://doi.org/10.1126/science.1125249) is reproduced here:\n",
    "\n",
    "![alt](Huybers_Fig2.jpeg 'title')\n",
    "\n",
    "> Fig. 2. Insolation forcing and Pleistocene glacial variability. (A) Number of days that insolation is above 275 W/m2 (blue) and the average insolation intensity during this interval (red). Intensity and duration are anticorrelated. (B) Spectral estimate of the duration (blue) and intensity (red), showing that the majority of the variability is at the precession periods. Shaded bands from left to right indicate the 100-ky, 41-ky (obliquity), and 21-ky (precession) bands. (C) Summer energy (red) and the time rate of change of δ18O (black) for the early Pleistocene and (D) the corresponding spectral estimates. Positive rates of change indicate decreasing ice volume. Variability in both records is predominantly at the 41-ky obliquity period. (E and F) Same as (C) and (D) but for the late Pleistocene. The time rate of change of δ18O has variability at the 100-ky period not present in the forcing."
   ]
  },
  {
   "cell_type": "markdown",
   "metadata": {},
   "source": [
    "## Your assignment\n",
    "\n",
    "Your tasks is to reproduce these orbital / insolation calculations using the climlab tools. Specifically:\n",
    "\n",
    "1. **Reproduce the blue curve in Fig. 2A**: number of days per year that insolation is above 275 W m$^{-2}$ at 65ºN, between 2000 and 1000 kyrs before present. \n",
    "\n",
    "2. **Reproduce the red curve in Fig. 2C**: Integrated summer insolation: the total accumulated insolation for every day for which this insolation is above the threshold of 275 W m$^{-2}$.\n",
    "\n",
    "3. **Reproduce the red curve in Fig. 2A**: Average summer insolation intensity. This is the integrated summer insolation above the intensity threshold divided by the number of seconds during which the insolation threshold is exceeded. (Preferably plot this on the same graph as the number of days to reproduce Fig. 2A completely)."
   ]
  },
  {
   "cell_type": "code",
   "execution_count": null,
   "metadata": {},
   "outputs": [],
   "source": []
  }
 ],
 "metadata": {
  "anaconda-cloud": {},
  "kernelspec": {
   "display_name": "Python 3 (ipykernel)",
   "language": "python",
   "name": "python3"
  },
  "language_info": {
   "codemirror_mode": {
    "name": "ipython",
    "version": 3
   },
   "file_extension": ".py",
   "mimetype": "text/x-python",
   "name": "python",
   "nbconvert_exporter": "python",
   "pygments_lexer": "ipython3",
   "version": "3.13.2"
  }
 },
 "nbformat": 4,
 "nbformat_minor": 4
}
